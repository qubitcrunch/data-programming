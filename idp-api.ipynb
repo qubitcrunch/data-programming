{
 "cells": [
  {
   "cell_type": "code",
   "execution_count": 40,
   "metadata": {},
   "outputs": [],
   "source": [
    "import requests\n",
    "import inspect"
   ]
  },
  {
   "cell_type": "code",
   "execution_count": 56,
   "metadata": {},
   "outputs": [],
   "source": [
    "api = \"http://localhost:8080/qubitcrunch/interactive-data-programming/1.0.0/\""
   ]
  },
  {
   "cell_type": "code",
   "execution_count": 71,
   "metadata": {},
   "outputs": [
    {
     "data": {
      "text/plain": [
       "'[\\n  \"lf_contains_business_term\",\\n  \"lf_contains_science_term\",\\n  \"lf_contains_sports_term\",\\n  \"lf_contains_world_term\"\\n]\\n'"
      ]
     },
     "execution_count": 71,
     "metadata": {},
     "output_type": "execute_result"
    }
   ],
   "source": [
    "#GET the labeling functions\n",
    "response = requests.get(api+\"/labeling_functions\")\n",
    "response.text"
   ]
  },
  {
   "cell_type": "code",
   "execution_count": 58,
   "metadata": {},
   "outputs": [
    {
     "data": {
      "text/plain": [
       "<Response [204]>"
      ]
     },
     "execution_count": 58,
     "metadata": {},
     "output_type": "execute_result"
    }
   ],
   "source": [
    "#POST a weakly_label instruction\n",
    "weak_algorithm = \"snorkel\"\n",
    "requests.post(api+\"/weakly_label?weak=\"+weak_algorithm)"
   ]
  },
  {
   "cell_type": "code",
   "execution_count": 59,
   "metadata": {},
   "outputs": [],
   "source": [
    "#GET the next unlabeled batch of points \n",
    "response = requests.get(api+\"/batch_unlabeled\")\n",
    "response.text"
   ]
  },
  {
   "cell_type": "code",
   "execution_count": 60,
   "metadata": {},
   "outputs": [],
   "source": [
    "#Write a new labeling function based on the returned batch\n",
    "def lf_new_science_term(x):    \n",
    "    if type(x) == pd.core.series.Series:\n",
    "        x = x.body\n",
    "    if type(x) != str:\n",
    "        x = str(x)\n",
    "    \n",
    "    tokenizer = get_tokenizer(\"basic_english\")\n",
    "    tokens = tokenizer(x)\n",
    "    \n",
    "    automobile_terms = [\"atom\"]\n",
    "    for token in tokens:\n",
    "        if token in automobile_terms:\n",
    "            return 3\n",
    "        else:\n",
    "            return -1"
   ]
  },
  {
   "cell_type": "code",
   "execution_count": 72,
   "metadata": {},
   "outputs": [
    {
     "data": {
      "text/plain": [
       "'def lf_new_science_term(x):    \\n    if type(x) == pd.core.series.Series:\\n        x = x.body\\n    if type(x) != str:\\n        x = str(x)\\n    \\n    tokenizer = get_tokenizer(\"basic_english\")\\n    tokens = tokenizer(x)\\n    \\n    automobile_terms = [\"atom\"]\\n    for token in tokens:\\n        if token in automobile_terms:\\n            return 3\\n        else:\\n            return -1\\n'"
      ]
     },
     "execution_count": 72,
     "metadata": {},
     "output_type": "execute_result"
    }
   ],
   "source": [
    "labeling_function_str=inspect.getsource(lf_new_science_term)\n",
    "labeling_function_str"
   ]
  },
  {
   "cell_type": "code",
   "execution_count": 75,
   "metadata": {},
   "outputs": [
    {
     "data": {
      "text/plain": [
       "<Response [204]>"
      ]
     },
     "execution_count": 75,
     "metadata": {},
     "output_type": "execute_result"
    }
   ],
   "source": [
    "#POST the new labeling function\n",
    "requests.post(api+\"/labeling_function_new?labeling_function_str=\"+labeling_function_str)"
   ]
  },
  {
   "cell_type": "code",
   "execution_count": 76,
   "metadata": {},
   "outputs": [
    {
     "data": {
      "text/plain": [
       "'[\\n  \"lf_contains_business_term\",\\n  \"lf_contains_science_term\",\\n  \"lf_contains_sports_term\",\\n  \"lf_contains_world_term\"\\n]\\n'"
      ]
     },
     "execution_count": 76,
     "metadata": {},
     "output_type": "execute_result"
    }
   ],
   "source": [
    "##GET new list of labeling functions\n",
    "response = requests.get(api+\"/labeling_functions\")\n",
    "response.text"
   ]
  },
  {
   "cell_type": "code",
   "execution_count": null,
   "metadata": {},
   "outputs": [],
   "source": []
  }
 ],
 "metadata": {
  "kernelspec": {
   "display_name": "Python 3",
   "language": "python",
   "name": "python3"
  },
  "language_info": {
   "codemirror_mode": {
    "name": "ipython",
    "version": 3
   },
   "file_extension": ".py",
   "mimetype": "text/x-python",
   "name": "python",
   "nbconvert_exporter": "python",
   "pygments_lexer": "ipython3",
   "version": "3.6.5"
  }
 },
 "nbformat": 4,
 "nbformat_minor": 2
}
